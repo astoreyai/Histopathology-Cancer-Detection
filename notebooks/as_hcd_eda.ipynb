{
 "cells": [
  {
   "cell_type": "markdown",
   "metadata": {},
   "source": [
    "# Exploratory Data Analysis (EDA) for Histopathology Cancer Detection\n",
    "This notebook is dedicated to analyzing and understanding the histopathology cancer detection dataset. We'll explore data distributions, check for any patterns, and perform preliminary visualizations. Additionally, we’ll use tools like Pandas Profiling for a quick overview of dataset characteristics."
   ]
  },
  {
   "cell_type": "markdown",
   "metadata": {},
   "source": [
    "## Import Libraries"
   ]
  },
  {
   "cell_type": "code",
   "execution_count": null,
   "metadata": {},
   "outputs": [],
   "source": [
    "import os\n",
    "import pandas as pd\n",
    "import matplotlib.pyplot as plt\n",
    "import seaborn as sns\n",
    "import sweetviz as sv\n",
    "from scripts.config import LABELS_FILE, TRAIN_DIR\n",
    "from scripts.data_utils import display_sample_images"
   ]
  },
  {
   "cell_type": "code",
   "execution_count": null,
   "metadata": {},
   "outputs": [],
   "source": [
    "# Set global configurations\n",
    "plt.style.use('ggplot')\n",
    "sns.set_theme(style=\"darkgrid\")"
   ]
  },
  {
   "cell_type": "markdown",
   "metadata": {},
   "source": [
    "## Load Data"
   ]
  },
  {
   "cell_type": "code",
   "execution_count": null,
   "metadata": {},
   "outputs": [],
   "source": [
    "# Load labels from the training labels CSV\n",
    "labels_df = pd.read_csv(LABELS_FILE)\n",
    "print(\"Data Loaded Successfully\")\n",
    "labels_df.head()"
   ]
  },
  {
   "cell_type": "markdown",
   "metadata": {},
   "source": [
    "## Basic Information and Summary Statistics"
   ]
  },
  {
   "cell_type": "code",
   "execution_count": null,
   "metadata": {},
   "outputs": [],
   "source": [
    "# Display basic info\n",
    "print(\"Dataset Info:\")\n",
    "labels_df.info()\n",
    "\n",
    "print(\"\\nSummary Statistics:\")\n",
    "labels_df.describe()"
   ]
  },
  {
   "cell_type": "markdown",
   "metadata": {},
   "source": [
    "## Class Distribution"
   ]
  },
  {
   "cell_type": "code",
   "execution_count": null,
   "metadata": {},
   "outputs": [],
   "source": [
    "# Visualize class distribution\n",
    "plt.figure(figsize=(6, 4))\n",
    "sns.countplot(x='label', data=labels_df, palette='pastel')\n",
    "plt.title('Class Distribution of Cancer Labels')\n",
    "plt.xlabel('Label')\n",
    "plt.ylabel('Count')\n",
    "plt.show()"
   ]
  },
  {
   "cell_type": "markdown",
   "metadata": {},
   "source": [
    "## Sample Images"
   ]
  },
  {
   "cell_type": "code",
   "execution_count": null,
   "metadata": {},
   "outputs": [],
   "source": [
    "# Display a few sample images from each class\n",
    "display_sample_images(labels_df, TRAIN_DIR, label=1, sample_size=5)  # Cancerous images\n",
    "display_sample_images(labels_df, TRAIN_DIR, label=0, sample_size=5)  # Non-cancerous images"
   ]
  },
  {
   "cell_type": "markdown",
   "metadata": {},
   "source": [
    "## SweetViz Report"
   ]
  },
  {
   "cell_type": "code",
   "execution_count": null,
   "metadata": {},
   "outputs": [],
   "source": [
    "# Generate an automated EDA report using Sweetviz\n",
    "eda_report = sv.analyze(labels_df)\n",
    "eda_report.show_html(filepath='eda_report.html', open_browser=False)\n",
    "print(\"Sweetviz Report Generated: eda_report.html\")"
   ]
  },
  {
   "cell_type": "markdown",
   "metadata": {},
   "source": [
    "## Mean Intensity of Images\n",
    "This section will calculate the mean intensity of each image and plot the distribution to understand brightness levels.\n"
   ]
  },
  {
   "cell_type": "code",
   "execution_count": null,
   "metadata": {},
   "outputs": [],
   "source": [
    "from scripts.data_utils import calculate_mean_intensity\n",
    "\n",
    "# Compute mean intensity for each image and store results in the dataframe\n",
    "labels_df['mean_intensity'] = labels_df.apply(\n",
    "    lambda row: calculate_mean_intensity(\n",
    "        df=labels_df, \n",
    "        img_dir=TRAIN_DIR, \n",
    "        label=row['label'], \n",
    "        sample_size=1  # Process one image at a time\n",
    "    ), \n",
    "    axis=1\n",
    ")"
   ]
  },
  {
   "cell_type": "markdown",
   "metadata": {},
   "source": [
    "## Image Size Distribution\n",
    "Check if there is any variance in image sizes (should be uniform but worth verifying)."
   ]
  },
  {
   "cell_type": "code",
   "execution_count": null,
   "metadata": {},
   "outputs": [],
   "source": [
    "# Verify image size for a sample of images\n",
    "from PIL import Image\n",
    "\n",
    "image_sizes = [Image.open(os.path.join(TRAIN_DIR, img_id + '.tif')).size for img_id in labels_df['id'].sample(50)]\n",
    "image_sizes_df = pd.DataFrame(image_sizes, columns=['Width', 'Height'])\n",
    "print(\"Sample Image Sizes:\")\n",
    "print(image_sizes_df['Width'].value_counts(), image_sizes_df['Height'].value_counts())"
   ]
  },
  {
   "cell_type": "markdown",
   "metadata": {
    "vscode": {
     "languageId": "plaintext"
    }
   },
   "source": [
    "## Correlation Analysis\n",
    "Analyze the relationship between different numerical variables, if applicable."
   ]
  },
  {
   "cell_type": "code",
   "execution_count": null,
   "metadata": {},
   "outputs": [],
   "source": [
    "# Compute correlation matrix and visualize\n",
    "if 'mean_intensity' in labels_df.columns:\n",
    "    plt.figure(figsize=(6, 4))\n",
    "    sns.heatmap(labels_df[['label', 'mean_intensity']].corr(), annot=True, cmap='coolwarm')\n",
    "    plt.title('Correlation Matrix')\n",
    "    plt.show()"
   ]
  },
  {
   "cell_type": "markdown",
   "metadata": {},
   "source": [
    "## Conclusion\n",
    "This concludes the exploratory data analysis. The EDA report generated by Sweetviz provides a comprehensive overview of the dataset. Additional feature engineering and preprocessing can be applied based on these insights."
   ]
  }
 ],
 "metadata": {
  "kernelspec": {
   "display_name": "hcd",
   "language": "python",
   "name": "python3"
  },
  "language_info": {
   "name": "python",
   "version": "3.11.2"
  }
 },
 "nbformat": 4,
 "nbformat_minor": 2
}
