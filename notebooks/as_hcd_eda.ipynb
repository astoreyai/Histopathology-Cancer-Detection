{
 "cells": [
  {
   "cell_type": "markdown",
   "metadata": {},
   "source": [
    "# Exploratory Data Analysis (EDA) for Histopathology Cancer Detection\n",
    "This notebook is dedicated to analyzing and understanding the histopathology cancer detection dataset. We'll explore data distributions, check for any patterns, and perform preliminary visualizations. Additionally, we’ll use tools like Pandas Profiling for a quick overview of dataset characteristics."
   ]
  },
  {
   "cell_type": "markdown",
   "metadata": {},
   "source": [
    "## Import Libraries"
   ]
  },
  {
   "cell_type": "code",
   "execution_count": null,
   "metadata": {},
   "outputs": [],
   "source": [
    "import os\n",
    "import pandas as pd\n",
    "import matplotlib.pyplot as plt\n",
    "import seaborn as sns\n",
    "import sweetviz as sv\n",
    "from scripts.configs import LABELS_FILE, TRAIN_DIR  # Import necessary paths from configs\n",
    "from scripts.data_utils import load_labels, display_sample_images"
   ]
  },
  {
   "cell_type": "code",
   "execution_count": null,
   "metadata": {},
   "outputs": [],
   "source": [
    "# Set global configurations\n",
    "plt.style.use('ggplot')\n",
    "sns.set_theme(style=\"darkgrid\")"
   ]
  },
  {
   "cell_type": "markdown",
   "metadata": {},
   "source": [
    "## Load Data"
   ]
  },
  {
   "cell_type": "code",
   "execution_count": null,
   "metadata": {},
   "outputs": [],
   "source": [
    "# Load labels from the training labels CSV\n",
    "labels_df = pd.read_csv(LABELS_FILE)\n",
    "print(\"Data Loaded Successfully\")\n",
    "labels_df.head()"
   ]
  },
  {
   "cell_type": "markdown",
   "metadata": {},
   "source": [
    "## Basic Information and Summary Statistics"
   ]
  },
  {
   "cell_type": "code",
   "execution_count": null,
   "metadata": {},
   "outputs": [],
   "source": [
    "# Display basic info\n",
    "print(\"Dataset Info:\")\n",
    "labels_df.info()\n",
    "\n",
    "print(\"\\nSummary Statistics:\")\n",
    "labels_df.describe()"
   ]
  },
  {
   "cell_type": "markdown",
   "metadata": {},
   "source": [
    "## Class Distribution"
   ]
  },
  {
   "cell_type": "code",
   "execution_count": null,
   "metadata": {},
   "outputs": [],
   "source": [
    "# Visualize class distribution\n",
    "plt.figure(figsize=(6, 4))\n",
    "sns.countplot(x='label', data=labels_df, palette='pastel')\n",
    "plt.title('Class Distribution of Cancer Labels')\n",
    "plt.xlabel('Label')\n",
    "plt.ylabel('Count')\n",
    "plt.show()"
   ]
  },
  {
   "cell_type": "markdown",
   "metadata": {},
   "source": [
    "## Sample Images"
   ]
  },
  {
   "cell_type": "code",
   "execution_count": null,
   "metadata": {},
   "outputs": [],
   "source": [
    "# Display a few sample images from each class\n",
    "display_sample_images(labels_df, TRAIN_DIR, num_samples=5)"
   ]
  },
  {
   "cell_type": "markdown",
   "metadata": {},
   "source": [
    "## SweetViz Report"
   ]
  },
  {
   "cell_type": "code",
   "execution_count": null,
   "metadata": {},
   "outputs": [],
   "source": [
    "# Generate an automated EDA report using Sweetviz\n",
    "eda_report = sv.analyze(labels_df)\n",
    "eda_report.show_html(filepath='eda_report.html', open_browser=False)\n",
    "print(\"Sweetviz Report Generated: eda_report.html\")"
   ]
  },
  {
   "cell_type": "markdown",
   "metadata": {},
   "source": [
    "## Mean Intensity of Images\n",
    "This section will calculate the mean intensity of each image and plot the distribution to understand brightness levels.\n"
   ]
  },
  {
   "cell_type": "code",
   "execution_count": null,
   "metadata": {},
   "outputs": [],
   "source": [
    "from scripts.data_utils import calculate_mean_intensity\n",
    "\n",
    "# Compute mean intensity for each image and store results in the dataframe\n",
    "labels_df['mean_intensity'] = labels_df['id'].apply(lambda img_id: calculate_mean_intensity(os.path.join(TRAIN_DIR, img_id + '.tif')))\n",
    "plt.figure(figsize=(8, 6))\n",
    "sns.histplot(labels_df['mean_intensity'], bins=30, kde=True)\n",
    "plt.title('Distribution of Mean Image Intensity')\n",
    "plt.xlabel('Mean Intensity')\n",
    "plt.ylabel('Frequency')\n",
    "plt.show()"
   ]
  },
  {
   "cell_type": "markdown",
   "metadata": {},
   "source": [
    "## Image Size Distribution\n",
    "Check if there is any variance in image sizes (should be uniform but worth verifying)."
   ]
  },
  {
   "cell_type": "code",
   "execution_count": null,
   "metadata": {},
   "outputs": [],
   "source": [
    "# Verify image size for a sample of images\n",
    "from PIL import Image\n",
    "\n",
    "image_sizes = [Image.open(os.path.join(TRAIN_DIR, img_id + '.tif')).size for img_id in labels_df['id'].sample(50)]\n",
    "image_sizes_df = pd.DataFrame(image_sizes, columns=['Width', 'Height'])\n",
    "print(\"Sample Image Sizes:\")\n",
    "print(image_sizes_df['Width'].value_counts(), image_sizes_df['Height'].value_counts())"
   ]
  },
  {
   "cell_type": "markdown",
   "metadata": {
    "vscode": {
     "languageId": "plaintext"
    }
   },
   "source": [
    "## Correlation Analysis\n",
    "Analyze the relationship between different numerical variables, if applicable."
   ]
  },
  {
   "cell_type": "code",
   "execution_count": null,
   "metadata": {},
   "outputs": [],
   "source": [
    "# Compute correlation matrix and visualize\n",
    "if 'mean_intensity' in labels_df.columns:\n",
    "    plt.figure(figsize=(6, 4))\n",
    "    sns.heatmap(labels_df[['label', 'mean_intensity']].corr(), annot=True, cmap='coolwarm')\n",
    "    plt.title('Correlation Matrix')\n",
    "    plt.show()"
   ]
  },
  {
   "cell_type": "markdown",
   "metadata": {},
   "source": [
    "## Conclusion\n",
    "This concludes the exploratory data analysis. The EDA report generated by Sweetviz provides a comprehensive overview of the dataset. Additional feature engineering and preprocessing can be applied based on these insights."
   ]
  }
 ],
 "metadata": {
  "kernelspec": {
   "display_name": "hcd",
   "language": "python",
   "name": "python3"
  },
  "language_info": {
   "name": "python",
   "version": "3.11.2"
  }
 },
 "nbformat": 4,
 "nbformat_minor": 2
}
