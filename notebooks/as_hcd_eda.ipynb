{
 "cells": [
  {
   "cell_type": "markdown",
   "metadata": {},
   "source": [
    "### Exploratory Data Analysis (EDA) for Histopathology Cancer Detection\n",
    "This notebook is dedicated to analyzing and understanding the histopathology cancer detection dataset. We'll explore data distributions, check for any patterns, and perform preliminary visualizations. Additionally, we’ll use tools like Pandas Profiling for a quick overview of dataset characteristics."
   ]
  },
  {
   "cell_type": "markdown",
   "metadata": {},
   "source": [
    "#### Import Libraries"
   ]
  },
  {
   "cell_type": "code",
   "execution_count": null,
   "metadata": {},
   "outputs": [],
   "source": [
    "import os\n",
    "import pandas as pd\n",
    "import matplotlib.pyplot as plt\n",
    "import seaborn as sns\n",
    "import sweetviz as sv\n",
    "\n",
    "from scripts.config import LABELS_FILE, TRAIN_DIR, TARGET_SIZE, BATCH_SIZE\n",
    "from scripts.data_utils import HistopathologyDataModule, display_sample_images"
   ]
  },
  {
   "cell_type": "markdown",
   "metadata": {},
   "source": [
    "#### Load Data"
   ]
  },
  {
   "cell_type": "code",
   "execution_count": null,
   "metadata": {},
   "outputs": [],
   "source": [
    "# Load labels from the training labels CSV\n",
    "labels_df = pd.read_csv(LABELS_FILE)\n",
    "print(\"Data Loaded Successfully\")\n",
    "print(labels_df.head())\n",
    "\n",
    "# Initialize the data module\n",
    "data_module = HistopathologyDataModule(batch_size=BATCH_SIZE)\n",
    "data_module.setup(stage=\"fit\")\n",
    "\n",
    "# Access the train dataset\n",
    "train_dataset = data_module.train_dataset"
   ]
  },
  {
   "cell_type": "markdown",
   "metadata": {},
   "source": [
    "#### Basic Information and Summary Statistics"
   ]
  },
  {
   "cell_type": "code",
   "execution_count": null,
   "metadata": {},
   "outputs": [],
   "source": [
    "# Display basic info\n",
    "print(\"Dataset Info:\")\n",
    "labels_df.info()\n",
    "\n",
    "print(\"\\nSummary Statistics:\")\n",
    "labels_df.describe()"
   ]
  },
  {
   "cell_type": "markdown",
   "metadata": {},
   "source": [
    "#### Class Distribution"
   ]
  },
  {
   "cell_type": "code",
   "execution_count": null,
   "metadata": {},
   "outputs": [],
   "source": [
    "# Visualize class distribution\n",
    "plt.figure(figsize=(6, 4))\n",
    "sns.countplot(x='label', data=labels_df, palette='pastel')\n",
    "plt.title('Class Distribution of Cancer Labels')\n",
    "plt.xlabel('Label')\n",
    "plt.ylabel('Count')\n",
    "plt.show()"
   ]
  },
  {
   "cell_type": "markdown",
   "metadata": {},
   "source": [
    "#### Sample Images"
   ]
  },
  {
   "cell_type": "code",
   "execution_count": null,
   "metadata": {},
   "outputs": [],
   "source": [
    "# Display samples for label 0 (non-cancerous) before and after preprocessing\n",
    "print(\"Non-cancerous samples (Label 0):\")\n",
    "display_sample_images(train_dataset, label=0, sample_size=5)"
   ]
  },
  {
   "cell_type": "code",
   "execution_count": null,
   "metadata": {},
   "outputs": [],
   "source": [
    "# Display samples for label 1 (cancerous) before and after preprocessing\n",
    "print(\"Cancerous samples (Label 1):\")\n",
    "display_sample_images(train_dataset, label=1, sample_size=5)"
   ]
  },
  {
   "cell_type": "markdown",
   "metadata": {},
   "source": [
    "#### SweetViz Report"
   ]
  },
  {
   "cell_type": "code",
   "execution_count": null,
   "metadata": {},
   "outputs": [],
   "source": [
    "# Generate an automated EDA report using Sweetviz\n",
    "eda_report = sv.analyze(labels_df)\n",
    "eda_report.show_html(filepath='eda_report.html', open_browser=False)\n",
    "print(\"Sweetviz Report Generated: eda_report.html\")"
   ]
  },
  {
   "cell_type": "markdown",
   "metadata": {},
   "source": [
    "#### Conclusion\n",
    "This concludes the exploratory data analysis:\n",
    "- The dataset's class distribution is imbalanced, favoring non-cancerous images.\n",
    "- Sweetviz provides a comprehensive report for further insights.\n",
    "- Images are uniform in size but will be resized to the target dimensions during preprocessing.\n"
   ]
  }
 ],
 "metadata": {
  "kernelspec": {
   "display_name": "hcd",
   "language": "python",
   "name": "python3"
  },
  "language_info": {
   "name": "python",
   "version": "3.11.2"
  }
 },
 "nbformat": 4,
 "nbformat_minor": 2
}
