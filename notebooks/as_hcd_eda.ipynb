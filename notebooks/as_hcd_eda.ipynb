{
 "cells": [
  {
   "cell_type": "markdown",
   "metadata": {},
   "source": [
    "### Exploratory Data Analysis (EDA) for Histopathology Cancer Detection\n",
    "This notebook is dedicated to analyzing and understanding the histopathology cancer detection dataset. We'll explore data distributions, check for any patterns, and perform preliminary visualizations. Additionally, we’ll use tools like Pandas Profiling for a quick overview of dataset characteristics."
   ]
  },
  {
   "cell_type": "markdown",
   "metadata": {},
   "source": [
    "#### Import Libraries"
   ]
  },
  {
   "cell_type": "code",
   "execution_count": null,
   "metadata": {},
   "outputs": [],
   "source": [
    "import os\n",
    "import pandas as pd\n",
    "import matplotlib.pyplot as plt\n",
    "import seaborn as sns\n",
    "import sweetviz as sv\n",
    "\n",
    "from scripts.config import LABELS_FILE, TRAIN_DIR, TARGET_SIZE\n",
    "from scripts.data_utils import display_sample_images\n"
   ]
  },
  {
   "cell_type": "markdown",
   "metadata": {},
   "source": [
    "#### Load Data"
   ]
  },
  {
   "cell_type": "code",
   "execution_count": null,
   "metadata": {},
   "outputs": [],
   "source": [
    "# Load labels from the training labels CSV\n",
    "labels_df = pd.read_csv(LABELS_FILE)\n",
    "print(\"Data Loaded Successfully\")\n",
    "labels_df.head()"
   ]
  },
  {
   "cell_type": "markdown",
   "metadata": {},
   "source": [
    "#### Basic Information and Summary Statistics"
   ]
  },
  {
   "cell_type": "code",
   "execution_count": null,
   "metadata": {},
   "outputs": [],
   "source": [
    "# Display basic info\n",
    "print(\"Dataset Info:\")\n",
    "labels_df.info()\n",
    "\n",
    "print(\"\\nSummary Statistics:\")\n",
    "labels_df.describe()"
   ]
  },
  {
   "cell_type": "markdown",
   "metadata": {},
   "source": [
    "#### Class Distribution"
   ]
  },
  {
   "cell_type": "code",
   "execution_count": null,
   "metadata": {},
   "outputs": [],
   "source": [
    "# Visualize class distribution\n",
    "plt.figure(figsize=(6, 4))\n",
    "sns.countplot(x='label', data=labels_df, palette='pastel')\n",
    "plt.title('Class Distribution of Cancer Labels')\n",
    "plt.xlabel('Label')\n",
    "plt.ylabel('Count')\n",
    "plt.show()"
   ]
  },
  {
   "cell_type": "markdown",
   "metadata": {},
   "source": [
    "#### Sample Images"
   ]
  },
  {
   "cell_type": "code",
   "execution_count": null,
   "metadata": {},
   "outputs": [],
   "source": [
    "# Display samples for label 0 (non-cancerous) before and after preprocessing\n",
    "print(\"Non-cancerous samples (Label 0):\")\n",
    "display_sample_images(train_dataset, label=0, sample_size=5)"
   ]
  },
  {
   "cell_type": "code",
   "execution_count": null,
   "metadata": {},
   "outputs": [],
   "source": [
    "# Display samples for label 1 (cancerous) before and after preprocessing\n",
    "print(\"Cancerous samples (Label 1):\")\n",
    "display_sample_images(train_dataset, label=1, sample_size=5)"
   ]
  },
  {
   "cell_type": "markdown",
   "metadata": {},
   "source": [
    "#### SweetViz Report"
   ]
  },
  {
   "cell_type": "code",
   "execution_count": null,
   "metadata": {},
   "outputs": [],
   "source": [
    "# Generate an automated EDA report using Sweetviz\n",
    "eda_report = sv.analyze(labels_df)\n",
    "eda_report.show_html(filepath='eda_report.html', open_browser=False)\n",
    "print(\"Sweetviz Report Generated: eda_report.html\")"
   ]
  },
  {
   "cell_type": "markdown",
   "metadata": {},
   "source": [
    "#### Image Size Distribution\n",
    "Check if there is any variance in image sizes (should be uniform but worth verifying)."
   ]
  },
  {
   "cell_type": "code",
   "execution_count": null,
   "metadata": {},
   "outputs": [],
   "source": [
    "# Verify image sizes for a random sample of 50 images\n",
    "image_sizes = [Image.open(os.path.join(TRAIN_DIR, img_id + '.tif')).size for img_id in labels_df['id'].sample(50)]\n",
    "image_sizes_df = pd.DataFrame(image_sizes, columns=['Width', 'Height'])\n",
    "\n",
    "# Display unique dimensions\n",
    "print(\"Sample Image Sizes:\")\n",
    "print(image_sizes_df['Width'].value_counts(), image_sizes_df['Height'].value_counts())"
   ]
  },
  {
   "cell_type": "markdown",
   "metadata": {},
   "source": [
    "#### Image Resizing Preview\n",
    "Verify resizing functionality to the target size defined in `config.py`."
   ]
  },
  {
   "cell_type": "code",
   "execution_count": null,
   "metadata": {},
   "outputs": [],
   "source": [
    "# Resize a sample image to the target size\n",
    "sample_img_path = os.path.join(TRAIN_DIR, labels_df['id'][0] + '.tif')\n",
    "sample_img = Image.open(sample_img_path)\n",
    "resized_img = sample_img.resize(TARGET_SIZE)\n",
    "\n",
    "plt.figure(figsize=(8, 4))\n",
    "plt.subplot(1, 2, 1)\n",
    "plt.imshow(sample_img)\n",
    "plt.title(\"Original Image\")\n",
    "plt.axis(\"off\")\n",
    "\n",
    "plt.subplot(1, 2, 2)\n",
    "plt.imshow(resized_img)\n",
    "plt.title(f\"Resized Image {TARGET_SIZE}\")\n",
    "plt.axis(\"off\")\n",
    "plt.show()"
   ]
  },
  {
   "cell_type": "markdown",
   "metadata": {},
   "source": [
    "#### Conclusion\n",
    "This concludes the exploratory data analysis:\n",
    "- The dataset's class distribution is imbalanced, favoring non-cancerous images.\n",
    "- Sweetviz provides a comprehensive report for further insights.\n",
    "- Images are uniform in size but will be resized to the target dimensions during preprocessing.\n"
   ]
  }
 ],
 "metadata": {
  "kernelspec": {
   "display_name": "hcd",
   "language": "python",
   "name": "python3"
  },
  "language_info": {
   "name": "python",
   "version": "3.11.2"
  }
 },
 "nbformat": 4,
 "nbformat_minor": 2
}
