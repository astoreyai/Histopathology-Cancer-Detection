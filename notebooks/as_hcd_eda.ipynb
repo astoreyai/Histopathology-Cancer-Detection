{
 "cells": [
  {
   "cell_type": "markdown",
   "metadata": {},
   "source": [
    "### Exploratory Data Analysis (EDA) for Histopathology Cancer Detection\n",
    "This notebook is dedicated to analyzing and understanding the histopathology cancer detection dataset. We'll explore data distributions, check for any patterns, and perform preliminary visualizations. Additionally, we’ll use tools like Pandas Profiling for a quick overview of dataset characteristics."
   ]
  },
  {
   "cell_type": "markdown",
   "metadata": {},
   "source": [
    "#### Import Libraries"
   ]
  },
  {
   "cell_type": "code",
   "execution_count": null,
   "metadata": {},
   "outputs": [],
   "source": [
    "import os\n",
    "import pandas as pd\n",
    "import matplotlib.pyplot as plt\n",
    "import seaborn as sns\n",
    "import sweetviz as sv\n",
    "from PIL import Image\n",
    "\n",
    "from scripts.config import LABELS_FILE, TRAIN_DIR, TARGET_SIZE\n",
    "from scripts.data_utils import HistologyDataset, display_sample_images\n",
    "from scripts.preprocessing import Preprocessing"
   ]
  },
  {
   "cell_type": "markdown",
   "metadata": {},
   "source": [
    "#### Load Data"
   ]
  },
  {
   "cell_type": "code",
   "execution_count": null,
   "metadata": {},
   "outputs": [],
   "source": [
    "# Load labels from the training labels CSV\n",
    "labels_df = pd.read_csv(LABELS_FILE)\n",
    "print(\"Data Loaded Successfully\")\n",
    "print(labels_df.head())\n",
    "\n",
    "# Initialize preprocessing pipeline with automatic reference selection\n",
    "preprocessor = Preprocessing(\n",
    "    input_size=TARGET_SIZE,\n",
    "    stain_correction=True,\n",
    "    stain_method=\"macenko\",\n",
    "    mask_size=(32, 32),\n",
    "    img_dir=TRAIN_DIR  # Automatically select reference image from this directory\n",
    ")\n",
    "print(f\"Selected reference image: {preprocessor.stain_reference_image_path}\")"
   ]
  },
  {
   "cell_type": "code",
   "execution_count": null,
   "metadata": {},
   "outputs": [],
   "source": [
    "# Display the selected reference image\n",
    "reference_image = Image.open(preprocessor.stain_reference_image_path)\n",
    "plt.imshow(reference_image)\n",
    "plt.title(\"Selected Stain Reference Image\")\n",
    "plt.axis(\"off\")\n",
    "plt.show()"
   ]
  },
  {
   "cell_type": "code",
   "execution_count": null,
   "metadata": {},
   "outputs": [],
   "source": [
    "# Initialize train_dataset\n",
    "train_dataset = HistologyDataset(\n",
    "    dataframe=labels_df,\n",
    "    img_dir=TRAIN_DIR,\n",
    "    preprocess_pipeline=preprocessor,\n",
    "    mode=\"train\"\n",
    ")"
   ]
  },
  {
   "cell_type": "markdown",
   "metadata": {},
   "source": [
    "#### Basic Information and Summary Statistics"
   ]
  },
  {
   "cell_type": "code",
   "execution_count": null,
   "metadata": {},
   "outputs": [],
   "source": [
    "# Display basic info\n",
    "print(\"Dataset Info:\")\n",
    "labels_df.info()\n",
    "\n",
    "print(\"\\nSummary Statistics:\")\n",
    "labels_df.describe()"
   ]
  },
  {
   "cell_type": "markdown",
   "metadata": {},
   "source": [
    "#### Class Distribution"
   ]
  },
  {
   "cell_type": "code",
   "execution_count": null,
   "metadata": {},
   "outputs": [],
   "source": [
    "# Visualize class distribution\n",
    "plt.figure(figsize=(6, 4))\n",
    "sns.countplot(x='label', data=labels_df, palette='pastel')\n",
    "plt.title('Class Distribution of Cancer Labels')\n",
    "plt.xlabel('Label')\n",
    "plt.ylabel('Count')\n",
    "plt.show()"
   ]
  },
  {
   "cell_type": "markdown",
   "metadata": {},
   "source": [
    "#### Sample Images"
   ]
  },
  {
   "cell_type": "code",
   "execution_count": null,
   "metadata": {},
   "outputs": [],
   "source": [
    "# Display preprocessed samples for label 0 (non-cancerous)\n",
    "print(\"Preprocessed Non-cancerous samples (Label 0):\")\n",
    "display_sample_images(\n",
    "    dataset=train_dataset,\n",
    "    label=0,\n",
    "    sample_size=5\n",
    ")"
   ]
  },
  {
   "cell_type": "code",
   "execution_count": null,
   "metadata": {},
   "outputs": [],
   "source": [
    "# Display preprocessed samples for label 1 (cancerous)\n",
    "print(\"Preprocessed Cancerous samples (Label 1):\")\n",
    "display_sample_images(\n",
    "    dataset=train_dataset,\n",
    "    label=1,\n",
    "    sample_size=5\n",
    ")"
   ]
  },
  {
   "cell_type": "markdown",
   "metadata": {},
   "source": [
    "#### SweetViz Report"
   ]
  },
  {
   "cell_type": "code",
   "execution_count": null,
   "metadata": {},
   "outputs": [],
   "source": [
    "# Generate an automated EDA report using Sweetviz\n",
    "eda_report = sv.analyze(labels_df)\n",
    "eda_report.show_html(filepath='eda_report.html', open_browser=False)\n",
    "print(\"Sweetviz Report Generated: eda_report.html\")"
   ]
  },
  {
   "cell_type": "markdown",
   "metadata": {},
   "source": [
    "#### Conclusion\n",
    "This concludes the exploratory data analysis:\n",
    "- The dataset's class distribution is imbalanced, favoring non-cancerous images.\n",
    "- Sweetviz provides a comprehensive report for further insights.\n",
    "- Images are uniform in size but will be resized to the target dimensions during preprocessing.\n"
   ]
  }
 ],
 "metadata": {
  "kernelspec": {
   "display_name": "hcd",
   "language": "python",
   "name": "python3"
  },
  "language_info": {
   "name": "python",
   "version": "3.11.2"
  }
 },
 "nbformat": 4,
 "nbformat_minor": 2
}
