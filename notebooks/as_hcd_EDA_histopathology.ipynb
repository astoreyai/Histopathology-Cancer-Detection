{
 "cells": [
  {
   "cell_type": "markdown",
   "metadata": {},
   "source": [
    "# Exploratory Data Analysis (EDA) for Histopathology Cancer Detection\n",
    "This notebook is dedicated to analyzing and understanding the histopathology cancer detection dataset. We'll explore data distributions, check for any patterns, and perform preliminary visualizations. Additionally, we’ll use tools like Pandas Profiling for a quick overview of dataset characteristics."
   ]
  },
  {
   "cell_type": "code",
   "execution_count": null,
   "metadata": {
    "vscode": {
     "languageId": "plaintext"
    }
   },
   "outputs": [],
   "source": [
    "# Import necessary libraries and modules\n",
    "import pandas as pd\n",
    "import matplotlib.pyplot as plt\n",
    "import seaborn as sns\n",
    "from pandas_profiling import ProfileReport\n",
    "from configs import TRAIN_DIR, LABELS_FILE\n",
    "from data_utils import load_labels, display_sample_images, calculate_mean_intensity"
   ]
  },
  {
   "cell_type": "markdown",
   "metadata": {
    "vscode": {
     "languageId": "plaintext"
    }
   },
   "source": [
    "## 1. Initial Data Overview"
   ]
  },
  {
   "cell_type": "code",
   "execution_count": null,
   "metadata": {
    "vscode": {
     "languageId": "plaintext"
    }
   },
   "outputs": [],
   "source": [
    "# Load and preview labels data\n",
    "labels_df = load_labels()\n",
    "labels_df.head()"
   ]
  },
  {
   "cell_type": "code",
   "execution_count": null,
   "metadata": {
    "vscode": {
     "languageId": "plaintext"
    }
   },
   "outputs": [],
   "source": [
    "# Basic statistics and null check\n",
    "print(\"Dataset Overview:\")\n",
    "print(labels_df.describe())\n",
    "print(\"\\nMissing values:\", labels_df.isnull().sum().sum())"
   ]
  },
  {
   "cell_type": "markdown",
   "metadata": {},
   "source": [
    "# ## 2. Distribution of Classes"
   ]
  },
  {
   "cell_type": "code",
   "execution_count": null,
   "metadata": {
    "vscode": {
     "languageId": "plaintext"
    }
   },
   "outputs": [],
   "source": [
    "# Visualize class distribution\n",
    "sns.countplot(data=labels_df, x=\"label\")\n",
    "plt.title(\"Class Distribution: Cancerous vs Non-Cancerous Samples\")\n",
    "plt.xlabel(\"Label (0 = Non-Cancerous, 1 = Cancerous)\")\n",
    "plt.ylabel(\"Count\")\n",
    "plt.show()"
   ]
  },
  {
   "cell_type": "markdown",
   "metadata": {},
   "source": [
    "## 3. Image Analysis"
   ]
  },
  {
   "cell_type": "markdown",
   "metadata": {},
   "source": [
    "### 3.1 Display Sample Images\n",
    "Display a few random images from each class."
   ]
  },
  {
   "cell_type": "code",
   "execution_count": null,
   "metadata": {
    "vscode": {
     "languageId": "plaintext"
    }
   },
   "outputs": [],
   "source": [
    "# Sample cancerous and non-cancerous images\n",
    "display_sample_images(labels_df, TRAIN_DIR, label=1, sample_size=5)\n",
    "display_sample_images(labels_df, TRAIN_DIR, label=0, sample_size=5)"
   ]
  },
  {
   "cell_type": "markdown",
   "metadata": {},
   "source": [
    "### 3.2 Image Intensity Analysis"
   ]
  },
  {
   "cell_type": "code",
   "execution_count": null,
   "metadata": {
    "vscode": {
     "languageId": "plaintext"
    }
   },
   "outputs": [],
   "source": [
    "# Calculate and plot pixel intensity distributions for both classes\n",
    "plt.figure(figsize=(12, 6))\n",
    "cancerous_intensity = calculate_mean_intensity(labels_df, TRAIN_DIR, label=1)\n",
    "non_cancerous_intensity = calculate_mean_intensity(labels_df, TRAIN_DIR, label=0)\n",
    "\n",
    "sns.histplot(cancerous_intensity, color='red', kde=True, label='Cancerous')\n",
    "sns.histplot(non_cancerous_intensity, color='blue', kde=True, label='Non-Cancerous')\n",
    "plt.xlabel(\"Pixel Intensity\")\n",
    "plt.ylabel(\"Frequency\")\n",
    "plt.title(\"Pixel Intensity Distribution for Cancerous vs Non-Cancerous Images\")\n",
    "plt.legend()\n",
    "plt.show()"
   ]
  },
  {
   "cell_type": "markdown",
   "metadata": {},
   "source": [
    "## 4. Generate Pandas Profiling Report"
   ]
  },
  {
   "cell_type": "code",
   "execution_count": null,
   "metadata": {
    "vscode": {
     "languageId": "plaintext"
    }
   },
   "outputs": [],
   "source": [
    "# Generate and save the profiling report\n",
    "profile = ProfileReport(labels_df, title=\"Pandas Profiling Report for Histopathology Labels\", explorative=True)\n",
    "profile.to_file(\"EDA_report.html\")\n",
    "print(\"Pandas Profiling report saved as 'EDA_report.html'.\")"
   ]
  },
  {
   "cell_type": "markdown",
   "metadata": {},
   "source": [
    "## Summary and Insights\n",
    "- The class distribution is slightly imbalanced, with more non-cancerous samples.\n",
    "- Intensity distributions reveal differences between classes, useful for feature engineering.\n",
    "- An EDA report has been saved as `EDA_report.html` for further exploration."
   ]
  }
 ],
 "metadata": {
  "language_info": {
   "name": "python"
  }
 },
 "nbformat": 4,
 "nbformat_minor": 2
}
